{
 "cells": [
  {
   "cell_type": "code",
   "execution_count": 0,
   "metadata": {
    "application/vnd.databricks.v1+cell": {
     "cellMetadata": {},
     "inputWidgets": {},
     "nuid": "c2bb03ab-45f6-412a-a2ad-36709b40b843",
     "showTitle": false,
     "tableResultSettingsMap": {},
     "title": ""
    },
    "colab": {
     "base_uri": "https://localhost:8080/"
    },
    "id": "ndfglIjXYcBU",
    "outputId": "dcfc54c0-70c6-452e-ac68-2bb396744183"
   },
   "outputs": [],
   "source": [
    "!pip install arxiv"
   ]
  },
  {
   "cell_type": "code",
   "execution_count": 0,
   "metadata": {
    "application/vnd.databricks.v1+cell": {
     "cellMetadata": {},
     "inputWidgets": {},
     "nuid": "b967cfc6-f2ec-40e5-86f3-0de1d44a7586",
     "showTitle": false,
     "tableResultSettingsMap": {},
     "title": ""
    },
    "id": "ApsL6p9CWTBX"
   },
   "outputs": [],
   "source": [
    "import arxiv\n",
    "import pandas as pd\n",
    "from tqdm import tqdm\n",
    "\n",
    "query_keywords = [\n",
    "    \"\\\"image segmentation\\\"\",\n",
    "    \"\\\"self-supervised learning\\\"\",\n",
    "    \"\\\"representation learning\\\"\",\n",
    "    \"\\\"image generation\\\"\",\n",
    "    \"\\\"object detection\\\"\",\n",
    "    \"\\\"transfer learning\\\"\",\n",
    "    \"\\\"transformers\\\"\",\n",
    "    \"\\\"adversarial training\",\n",
    "    \"\\\"generative adversarial networks\\\"\",\n",
    "    \"\\\"model compressions\\\"\",\n",
    "    \"\\\"image segmentation\\\"\",\n",
    "    \"\\\"few-shot learning\\\"\",\n",
    "    \"\\\"natural language\\\"\",\n",
    "    \"\\\"graph\\\"\",\n",
    "    \"\\\"colorization\\\"\",\n",
    "    \"\\\"depth estimation\\\"\",\n",
    "    \"\\\"point cloud\\\"\",\n",
    "    \"\\\"structured data\\\"\",\n",
    "    \"\\\"optical flow\\\"\",\n",
    "    \"\\\"reinforcement learning\\\"\",\n",
    "    \"\\\"super resolution\\\"\",\n",
    "    \"\\\"attention\\\"\",\n",
    "    \"\\\"tabular\\\"\",\n",
    "    \"\\\"unsupervised learning\\\"\",\n",
    "    \"\\\"semi-supervised learning\\\"\",\n",
    "    \"\\\"explainable\\\"\",\n",
    "    \"\\\"radiance field\\\"\",\n",
    "    \"\\\"decision tree\\\"\",\n",
    "    \"\\\"time series\\\"\",\n",
    "    \"\\\"molecule\\\"\",\n",
    "]"
   ]
  },
  {
   "cell_type": "code",
   "execution_count": 0,
   "metadata": {
    "application/vnd.databricks.v1+cell": {
     "cellMetadata": {},
     "inputWidgets": {},
     "nuid": "7def9a72-2ea4-476c-8e81-5880c40efad3",
     "showTitle": false,
     "tableResultSettingsMap": {},
     "title": ""
    },
    "id": "TIct2UKLbL31"
   },
   "outputs": [],
   "source": [
    "# Reuse a client with increased number of retries (3 -> 10) and increased page\n",
    "# size (100->500).\n",
    "client = arxiv.Client(num_retries=20, page_size=500)\n",
    "\n",
    "def query_with_keywords(query):\n",
    "    search = arxiv.Search(\n",
    "        query=query,\n",
    "        max_results=20000,\n",
    "        sort_by=arxiv.SortCriterion.LastUpdatedDate\n",
    "    )\n",
    "    terms = []\n",
    "    titles = []\n",
    "    abstracts = []\n",
    "    for res in tqdm(client.results(search), desc=query):\n",
    "        if res.primary_category in [\"cs.CV\", \"stat.ML\", \"cs.LG\"]:\n",
    "            terms.append(res.categories)\n",
    "            titles.append(res.title)\n",
    "            abstracts.append(res.summary)\n",
    "    return terms, titles, abstracts"
   ]
  },
  {
   "cell_type": "code",
   "execution_count": 0,
   "metadata": {
    "application/vnd.databricks.v1+cell": {
     "cellMetadata": {},
     "inputWidgets": {},
     "nuid": "e1d4a108-7e16-4fc4-a18e-bdff40777193",
     "showTitle": false,
     "tableResultSettingsMap": {},
     "title": ""
    },
    "colab": {
     "base_uri": "https://localhost:8080/"
    },
    "id": "L73h-A7RYmqR",
    "outputId": "0e3bd550-1a12-4fd2-efa7-2e5e286c2c3f"
   },
   "outputs": [],
   "source": [
    "all_titles = []\n",
    "all_summaries = []\n",
    "all_terms = []\n",
    "\n",
    "for query in query_keywords:\n",
    "    terms, titles, abstracts = query_with_keywords(query)\n",
    "    all_titles.extend(titles)\n",
    "    all_summaries.extend(abstracts)\n",
    "    all_terms.extend(terms)"
   ]
  },
  {
   "cell_type": "code",
   "execution_count": 0,
   "metadata": {
    "application/vnd.databricks.v1+cell": {
     "cellMetadata": {},
     "inputWidgets": {},
     "nuid": "946f0841-38f3-4e99-9e0a-ef1364b70389",
     "showTitle": false,
     "tableResultSettingsMap": {},
     "title": ""
    },
    "colab": {
     "base_uri": "https://localhost:8080/",
     "height": 205
    },
    "id": "GX7UXcI0a1sR",
    "outputId": "0ed04b65-ab62-4d11-91a9-5d73d4e67ca9"
   },
   "outputs": [],
   "source": [
    "data = pd.DataFrame({\n",
    "    'titles': all_titles,\n",
    "    'summaries': all_summaries,\n",
    "    'terms': all_terms\n",
    "})\n",
    "data.head()"
   ]
  },
  {
   "cell_type": "code",
   "execution_count": 0,
   "metadata": {
    "application/vnd.databricks.v1+cell": {
     "cellMetadata": {},
     "inputWidgets": {},
     "nuid": "e8975773-9027-4a69-9a33-40633459f6ec",
     "showTitle": false,
     "tableResultSettingsMap": {},
     "title": ""
    },
    "id": "LRjWIApOdTE0"
   },
   "outputs": [],
   "source": [
    "data.to_csv('arxiv_data.csv', index=False)"
   ]
  },
  {
   "cell_type": "code",
   "execution_count": 0,
   "metadata": {
    "application/vnd.databricks.v1+cell": {
     "cellMetadata": {},
     "inputWidgets": {},
     "nuid": "b8052a46-08cf-45d6-ae5d-2d0fc6011b0a",
     "showTitle": false,
     "tableResultSettingsMap": {},
     "title": ""
    },
    "colab": {
     "base_uri": "https://localhost:8080/",
     "height": 17
    },
    "id": "YrcBGeBldxgc",
    "outputId": "0a3d21a2-34e1-4dfb-fe50-79f9ef723829"
   },
   "outputs": [],
   "source": [
    "from google.colab import files\n",
    "files.download('arxiv_data.csv') "
   ]
  },
  {
   "cell_type": "code",
   "execution_count": 0,
   "metadata": {
    "application/vnd.databricks.v1+cell": {
     "cellMetadata": {},
     "inputWidgets": {},
     "nuid": "f81fa26f-43ef-44ab-af87-4539feae8a4b",
     "showTitle": false,
     "tableResultSettingsMap": {},
     "title": ""
    },
    "id": "dqojCAC4uV8u"
   },
   "outputs": [],
   "source": []
  }
 ],
 "metadata": {
  "application/vnd.databricks.v1+notebook": {
   "computePreferences": null,
   "dashboards": [],
   "environmentMetadata": null,
   "inputWidgetPreferences": null,
   "language": "python",
   "notebookMetadata": {},
   "notebookName": "arxiv_scrape",
   "widgets": {}
  },
  "colab": {
   "collapsed_sections": [],
   "name": "arxiv-scrape.ipynb",
   "provenance": []
  },
  "kernelspec": {
   "display_name": "Python 3",
   "name": "python3"
  },
  "language_info": {
   "name": "python"
  }
 },
 "nbformat": 4,
 "nbformat_minor": 0
}
