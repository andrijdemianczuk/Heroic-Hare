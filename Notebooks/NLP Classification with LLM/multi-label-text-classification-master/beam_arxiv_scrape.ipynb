{
 "cells": [
  {
   "cell_type": "code",
   "execution_count": 0,
   "metadata": {
    "application/vnd.databricks.v1+cell": {
     "cellMetadata": {},
     "inputWidgets": {},
     "nuid": "61918223-35a0-4a9f-adbe-a386190a2694",
     "showTitle": false,
     "tableResultSettingsMap": {},
     "title": ""
    },
    "id": "66abf160"
   },
   "outputs": [],
   "source": [
    "import apache_beam as beam\n",
    "import arxiv \n",
    "\n",
    "from apache_beam.dataframe.convert import to_dataframe\n",
    "from datetime import datetime"
   ]
  },
  {
   "cell_type": "code",
   "execution_count": 0,
   "metadata": {
    "application/vnd.databricks.v1+cell": {
     "cellMetadata": {},
     "inputWidgets": {},
     "nuid": "6528a572-7c9a-46ba-a11e-a05feed2312a",
     "showTitle": false,
     "tableResultSettingsMap": {},
     "title": ""
    },
    "id": "5443193c"
   },
   "outputs": [],
   "source": [
    "query_keywords = [\n",
    "    \"\\\"image segmentation\\\"\",\n",
    "    \"\\\"self-supervised learning\\\"\",\n",
    "    \"\\\"representation learning\\\"\",\n",
    "    \"\\\"image generation\\\"\",\n",
    "    \"\\\"object detection\\\"\",\n",
    "    \"\\\"transfer learning\\\"\",\n",
    "    \"\\\"transformers\\\"\",\n",
    "    \"\\\"adversarial training\",\n",
    "    \"\\\"generative adversarial networks\\\"\",\n",
    "    \"\\\"model compressions\\\"\",\n",
    "    \"\\\"image segmentation\\\"\",\n",
    "    \"\\\"few-shot learning\\\"\",\n",
    "    \"\\\"natural language\\\"\",\n",
    "    \"\\\"graph\\\"\",\n",
    "    \"\\\"colorization\\\"\",\n",
    "    \"\\\"depth estimation\\\"\",\n",
    "    \"\\\"point cloud\\\"\",\n",
    "    \"\\\"structured data\\\"\",\n",
    "    \"\\\"optical flow\\\"\",\n",
    "    \"\\\"reinforcement learning\\\"\",\n",
    "    \"\\\"super resolution\\\"\",\n",
    "    \"\\\"attention\\\"\",\n",
    "    \"\\\"tabular\\\"\",\n",
    "    \"\\\"unsupervised learning\\\"\",\n",
    "    \"\\\"semi-supervised learning\\\"\",\n",
    "    \"\\\"explainable\\\"\",\n",
    "    \"\\\"radiance field\\\"\",\n",
    "    \"\\\"decision tree\\\"\",\n",
    "    \"\\\"time series\\\"\",\n",
    "    \"\\\"molecule\\\"\",\n",
    "    \"\\\"physics\\\"\",\n",
    "    \"\\\"graphics\\\"\",\n",
    "    \"\\\"ray tracing\\\"\",\n",
    "    \"\\\"optical flow\\\"\",\n",
    "    \"\\\"photogrametry\\\"\",\n",
    "]"
   ]
  },
  {
   "cell_type": "code",
   "execution_count": 0,
   "metadata": {
    "application/vnd.databricks.v1+cell": {
     "cellMetadata": {},
     "inputWidgets": {},
     "nuid": "07b1774b-1fc5-4bc6-98f6-b8bc931041ff",
     "showTitle": false,
     "tableResultSettingsMap": {},
     "title": ""
    },
    "id": "DI84CCdnY5Ek"
   },
   "outputs": [],
   "source": [
    "import typing\n",
    "\n",
    "\n",
    "class ArxivEntries(typing.NamedTuple):\n",
    "    terms: typing.List[str]\n",
    "    titles: str\n",
    "    abstracts: str"
   ]
  },
  {
   "cell_type": "code",
   "execution_count": 0,
   "metadata": {
    "application/vnd.databricks.v1+cell": {
     "cellMetadata": {},
     "inputWidgets": {},
     "nuid": "0aae7381-cfd6-4cb5-86a8-10b2cee57104",
     "showTitle": false,
     "tableResultSettingsMap": {},
     "title": ""
    },
    "id": "83ddf9d6"
   },
   "outputs": [],
   "source": [
    "client = arxiv.Client(num_retries=20, page_size=500)\n",
    "\n",
    "\n",
    "def query_with_keywords(query):\n",
    "    search = arxiv.Search(\n",
    "        query=query, max_results=20000, sort_by=arxiv.SortCriterion.LastUpdatedDate,\n",
    "    )\n",
    "\n",
    "    for res in client.results(search):\n",
    "        if res.primary_category in [\"cs.CV\", \"stat.ML\", \"cs.LG\"]:\n",
    "            yield beam.Row(\n",
    "                terms=res.categories, titles=res.title, abstracts=res.summary\n",
    "            )"
   ]
  },
  {
   "cell_type": "code",
   "execution_count": 0,
   "metadata": {
    "application/vnd.databricks.v1+cell": {
     "cellMetadata": {},
     "inputWidgets": {},
     "nuid": "415cc740-a364-4c71-bc44-1ebdff977c20",
     "showTitle": false,
     "tableResultSettingsMap": {},
     "title": ""
    },
    "colab": {
     "base_uri": "https://localhost:8080/"
    },
    "id": "SqeUCclZWwF1",
    "outputId": "e086cff2-8660-4079-9128-66839909a009"
   },
   "outputs": [],
   "source": [
    "%%writefile setup.py\n",
    "\n",
    "import setuptools\n",
    "\n",
    "\n",
    "NAME = \"gather_arxiv_data\"\n",
    "VERSION = \"0.1.0\"\n",
    "REQUIRED_PACKAGES = [\n",
    "    \"apache_beam==2.32.0\",\n",
    "    \"pandas==1.3.2\",\n",
    "    \"arxiv==1.4.2\",\n",
    "    \"google_cloud_storage==1.42.1\",\n",
    "]\n",
    "\n",
    "\n",
    "setuptools.setup(\n",
    "    name=NAME,\n",
    "    version=VERSION,\n",
    "    install_requires=REQUIRED_PACKAGES,\n",
    "    packages=setuptools.find_packages(),\n",
    "    include_package_data=True,\n",
    ")"
   ]
  },
  {
   "cell_type": "code",
   "execution_count": 0,
   "metadata": {
    "application/vnd.databricks.v1+cell": {
     "cellMetadata": {},
     "inputWidgets": {},
     "nuid": "387d8a10-db3c-4bee-8a26-3a83bff785ee",
     "showTitle": false,
     "tableResultSettingsMap": {},
     "title": ""
    },
    "id": "2196906b"
   },
   "outputs": [],
   "source": [
    "gcs_bucket_name = \"arxiv-data-nlp\"\n",
    "gcp_project = \"####\" # Specify this.\n",
    "\n",
    "pipeline_args = {\n",
    "    \"job_name\": f'arxiv-data-{datetime.utcnow().strftime(\"%y%m%d-%H%M%S\")}',\n",
    "    \"num_workers\": \"4\",\n",
    "    \"runner\": \"DataflowRunner\",\n",
    "    \"setup_file\": \"./setup.py\",\n",
    "    \"project\": gcp_project,\n",
    "    \"region\": \"us-central1\",\n",
    "    \"gcs_location\": f\"gs://{gcs_bucket_name}\",\n",
    "    \"temp_location\": f\"gs://{gcs_bucket_name}/temp\",\n",
    "    \"staging_location\": f\"gs://{gcs_bucket_name}/staging\",\n",
    "    \"save_main_session\": \"True\",\n",
    "}\n",
    "\n",
    "# Convert the dictionary to a list of (argument, value) tuples and then flatten the list.\n",
    "pipeline_args = [(f\"--{k}\", v) for k, v in pipeline_args.items()]\n",
    "pipeline_args = [x for y in pipeline_args for x in y]"
   ]
  },
  {
   "cell_type": "code",
   "execution_count": 0,
   "metadata": {
    "application/vnd.databricks.v1+cell": {
     "cellMetadata": {},
     "inputWidgets": {},
     "nuid": "10706594-e0ec-4dd1-b3cf-b497b1feaede",
     "showTitle": false,
     "tableResultSettingsMap": {},
     "title": ""
    },
    "colab": {
     "base_uri": "https://localhost:8080/",
     "height": 766
    },
    "id": "d58affea",
    "outputId": "23852f9e-bf43-4b2a-cd3a-6180761a904f"
   },
   "outputs": [],
   "source": [
    "with beam.Pipeline(argv=pipeline_args) as pipeline:\n",
    "    keywords = pipeline | beam.Create(query_keywords)\n",
    "    records = keywords | beam.FlatMap(query_with_keywords).with_output_types(ArxivEntries)\n",
    "    _ = to_dataframe(records).to_csv(\n",
    "        f\"gs://{gcs_bucket_name}/arxiv/sample.csv\", index=False\n",
    "    )"
   ]
  },
  {
   "cell_type": "code",
   "execution_count": 0,
   "metadata": {
    "application/vnd.databricks.v1+cell": {
     "cellMetadata": {},
     "inputWidgets": {},
     "nuid": "2264b884-8d5b-4e11-8f1d-c0216e704e4e",
     "showTitle": false,
     "tableResultSettingsMap": {},
     "title": ""
    }
   },
   "outputs": [],
   "source": [
    "!gsutil ls -R gs://{gcs_bucket_name}/arxiv/"
   ]
  },
  {
   "cell_type": "code",
   "execution_count": 0,
   "metadata": {
    "application/vnd.databricks.v1+cell": {
     "cellMetadata": {},
     "inputWidgets": {},
     "nuid": "2a960bf3-f297-40d6-a5c2-f74347b84507",
     "showTitle": false,
     "tableResultSettingsMap": {},
     "title": ""
    }
   },
   "outputs": [],
   "source": [
    "!gsutil cp gs://arxiv-data-nlp/arxiv/sample.csv-00000-of-00020 ."
   ]
  },
  {
   "cell_type": "code",
   "execution_count": 0,
   "metadata": {
    "application/vnd.databricks.v1+cell": {
     "cellMetadata": {},
     "inputWidgets": {},
     "nuid": "72d738c0-e208-47c5-a67d-ede3d6e0e763",
     "showTitle": false,
     "tableResultSettingsMap": {},
     "title": ""
    },
    "id": "daedd023",
    "outputId": "e59c8622-02ca-4bfe-adfc-cec0208602fc"
   },
   "outputs": [],
   "source": [
    "import pandas as pd\n",
    "\n",
    "\n",
    "df = pd.read_csv(\"sample.csv-00000-of-00020\")\n",
    "df.head()"
   ]
  },
  {
   "cell_type": "markdown",
   "metadata": {
    "application/vnd.databricks.v1+cell": {
     "cellMetadata": {},
     "inputWidgets": {},
     "nuid": "7682fb40-6d22-44bb-8cc0-1e093371c1b2",
     "showTitle": false,
     "tableResultSettingsMap": {},
     "title": ""
    },
    "id": "7cba00e9"
   },
   "source": [
    "## Acknowledgements\n",
    "\n",
    "* [Lukas Schwab](https://github.com/lukasschwab)\n",
    "* [Robert Bradshaw](https://www.linkedin.com/in/robert-bradshaw-1b48a07/)"
   ]
  }
 ],
 "metadata": {
  "application/vnd.databricks.v1+notebook": {
   "computePreferences": null,
   "dashboards": [],
   "environmentMetadata": null,
   "inputWidgetPreferences": null,
   "language": "python",
   "notebookMetadata": {},
   "notebookName": "beam_arxiv_scrape",
   "widgets": {}
  },
  "colab": {
   "collapsed_sections": [],
   "name": "beam_arxiv.ipynb",
   "provenance": []
  },
  "kernelspec": {
   "display_name": "Python 3 (ipykernel)",
   "language": "python",
   "name": "python3"
  },
  "language_info": {
   "name": "python"
  }
 },
 "nbformat": 4,
 "nbformat_minor": 0
}
