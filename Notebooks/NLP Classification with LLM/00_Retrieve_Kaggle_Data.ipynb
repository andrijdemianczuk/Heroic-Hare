{
 "cells": [
  {
   "cell_type": "code",
   "execution_count": 0,
   "metadata": {
    "application/vnd.databricks.v1+cell": {
     "cellMetadata": {
      "byteLimit": 2048000,
      "rowLimit": 10000
     },
     "inputWidgets": {},
     "nuid": "02027604-c22f-41b3-8b83-34f8c39a5d7b",
     "showTitle": true,
     "tableResultSettingsMap": {},
     "title": "Install dependencies"
    }
   },
   "outputs": [],
   "source": [
    "%pip install kagglehub\n",
    "dbutils.library.restartPython()"
   ]
  },
  {
   "cell_type": "code",
   "execution_count": 0,
   "metadata": {
    "application/vnd.databricks.v1+cell": {
     "cellMetadata": {
      "byteLimit": 2048000,
      "rowLimit": 10000
     },
     "inputWidgets": {},
     "nuid": "75fb1bbd-e264-4230-ac20-06ff9d8f7313",
     "showTitle": true,
     "tableResultSettingsMap": {},
     "title": "Download the dataset"
    }
   },
   "outputs": [],
   "source": [
    "import kagglehub\n",
    "\n",
    "# Download latest version\n",
    "path = kagglehub.dataset_download(\"spsayakpaul/arxiv-paper-abstracts\")\n",
    "\n",
    "print(\"Path to dataset files:\", path)"
   ]
  },
  {
   "cell_type": "markdown",
   "metadata": {
    "application/vnd.databricks.v1+cell": {
     "cellMetadata": {},
     "inputWidgets": {},
     "nuid": "ce2efb9e-4c66-40a9-9930-3ba919d92476",
     "showTitle": false,
     "tableResultSettingsMap": {},
     "title": ""
    }
   },
   "source": [
    "## Delta Lake and Unity Catalog Storage Volumes"
   ]
  },
  {
   "cell_type": "code",
   "execution_count": 0,
   "metadata": {
    "application/vnd.databricks.v1+cell": {
     "cellMetadata": {
      "byteLimit": 2048000,
      "implicitDf": true,
      "rowLimit": 10000
     },
     "inputWidgets": {},
     "nuid": "30f1cf4a-e0b1-4ae5-a4db-5f59db64b1e3",
     "showTitle": true,
     "tableResultSettingsMap": {},
     "title": "Create the DBX Delta Lake Locations"
    }
   },
   "outputs": [],
   "source": [
    "%sql\n",
    "CREATE CATALOG IF NOT EXISTS articles;\n",
    "CREATE SCHEMA IF NOT EXISTS articles.arxiv;\n",
    "CREATE VOLUME IF NOT EXISTS articles.arxiv.data;"
   ]
  },
  {
   "cell_type": "code",
   "execution_count": 0,
   "metadata": {
    "application/vnd.databricks.v1+cell": {
     "cellMetadata": {
      "byteLimit": 2048000,
      "rowLimit": 10000
     },
     "inputWidgets": {},
     "nuid": "c9351040-29db-4063-8f91-a46ea0068bd8",
     "showTitle": true,
     "tableResultSettingsMap": {},
     "title": "Set System Env Vars"
    }
   },
   "outputs": [],
   "source": [
    "import os\n",
    "\n",
    "dest_path = \"/Volumes/articles/arxiv/data/\"\n",
    "\n",
    "os.environ[\"SOURCE_PATH\"] = path\n",
    "os.environ[\"DEST_PATH\"] = dest_path"
   ]
  },
  {
   "cell_type": "code",
   "execution_count": 0,
   "metadata": {
    "application/vnd.databricks.v1+cell": {
     "cellMetadata": {
      "byteLimit": 2048000,
      "rowLimit": 10000
     },
     "inputWidgets": {},
     "nuid": "fdc9679e-0058-4bef-ad24-2df4343bc10d",
     "showTitle": true,
     "tableResultSettingsMap": {},
     "title": "Copy files from temp cluster to storage volume"
    }
   },
   "outputs": [],
   "source": [
    "%sh\n",
    "cp -r $SOURCE_PATH $DEST_PATH"
   ]
  },
  {
   "cell_type": "code",
   "execution_count": 0,
   "metadata": {
    "application/vnd.databricks.v1+cell": {
     "cellMetadata": {
      "byteLimit": 2048000,
      "rowLimit": 10000
     },
     "inputWidgets": {},
     "nuid": "ffed2f42-c502-4816-a6e1-dd38eb953659",
     "showTitle": true,
     "tableResultSettingsMap": {},
     "title": "Confirm the destination data"
    }
   },
   "outputs": [],
   "source": [
    "dbutils.fs.ls(dest_path)"
   ]
  }
 ],
 "metadata": {
  "application/vnd.databricks.v1+notebook": {
   "computePreferences": null,
   "dashboards": [],
   "environmentMetadata": {
    "base_environment": "",
    "environment_version": "2"
   },
   "inputWidgetPreferences": null,
   "language": "python",
   "notebookMetadata": {
    "mostRecentlyExecutedCommandWithImplicitDF": {
     "commandId": 8875012450958869,
     "dataframes": [
      "_sqldf"
     ]
    },
    "pythonIndentUnit": 4
   },
   "notebookName": "00_Retrieve_Kaggle_Data",
   "widgets": {}
  },
  "language_info": {
   "name": "python"
  }
 },
 "nbformat": 4,
 "nbformat_minor": 0
}
