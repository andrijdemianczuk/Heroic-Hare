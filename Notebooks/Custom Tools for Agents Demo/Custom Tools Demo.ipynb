{
 "cells": [
  {
   "cell_type": "markdown",
   "metadata": {
    "application/vnd.databricks.v1+cell": {
     "cellMetadata": {},
     "inputWidgets": {},
     "nuid": "e454c58e-2a65-4f2a-a4be-bbda229abd02",
     "showTitle": false,
     "tableResultSettingsMap": {},
     "title": ""
    }
   },
   "source": [
    "# Custom Tools Demo\n",
    "<img src=\"https://eu-images.contentstack.com/v3/assets/blt6b0f74e5591baa03/blt5d5323f706ef288f/637c0195c162df49beaae102/Untitled_design_(77).png?width=1280&auto=webp&quality=95&format=jpg&disable=upscale\" width=500 />"
   ]
  },
  {
   "cell_type": "code",
   "execution_count": 0,
   "metadata": {
    "application/vnd.databricks.v1+cell": {
     "cellMetadata": {
      "byteLimit": 2048000,
      "rowLimit": 10000
     },
     "inputWidgets": {},
     "nuid": "e7015324-c078-43a6-bb07-91083be5ad7e",
     "showTitle": true,
     "tableResultSettingsMap": {},
     "title": "Requirements install"
    }
   },
   "outputs": [],
   "source": [
    "%pip install --upgrade --quiet langchain-core databricks-vectorsearch langchain-community youtube_search wikipedia\n",
    "#probably don't need the youtbue or wikipedia libaries, but hey whatever\n",
    "\n",
    "dbutils.library.restartPython()"
   ]
  },
  {
   "cell_type": "markdown",
   "metadata": {
    "application/vnd.databricks.v1+cell": {
     "cellMetadata": {},
     "inputWidgets": {},
     "nuid": "77c2e875-24c3-44be-b210-c8d08292ead8",
     "showTitle": false,
     "tableResultSettingsMap": {},
     "title": ""
    }
   },
   "source": [
    "## Simulating a few API Calls\n",
    "We're going to build some tools around some API calls. For that we'll need to find a few good analogs for things like time series data\n",
    "<br/>\n",
    "Simulate time series retrieval<br/>\n",
    "\t•\tREST API for weather forecasts and historical data.<br/>\n",
    "\t•\tSimulates querying sensor data or time series like in Cognite.<br/>\n",
    "GET https://api.open-meteo.com/v1/forecast?latitude=51.0478&longitude=114.0593&hourly=temperature_2m<br/>\n",
    "<br/>\n",
    "Simulate asset metadata catalog<br/>\n",
    "\t•\tCan simulate fetching metadata about real-world locations (assets).<br/>\n",
    "\t•\tThink of this as querying a catalog of objects.<br/>\n",
    "GET https://nominatim.openstreetmap.org/search?q=Statue+of+Liberty&format=json<br/>\n",
    "<br/>\n",
    "Simulate a document search<br/>\n",
    "\t•\tUseful for document-based retrieval like CDF events or files.<br/>\n",
    "\t•\tGreat for agent retrieval demos with RAG.<br/>\n",
    "GET http://export.arxiv.org/api/query?search_query=all:ai&start=0&max_results=2<br/>"
   ]
  },
  {
   "cell_type": "code",
   "execution_count": 0,
   "metadata": {
    "application/vnd.databricks.v1+cell": {
     "cellMetadata": {
      "byteLimit": 2048000,
      "rowLimit": 10000
     },
     "inputWidgets": {},
     "nuid": "d65902b4-271a-4e67-9aa2-e3bdac4fcc58",
     "showTitle": true,
     "tableResultSettingsMap": {},
     "title": "Testing some basic functions"
    }
   },
   "outputs": [],
   "source": [
    "#Let's create some sample functions to test our endpoints. We can call these just to get a sense of how they behave and what kind of input parameters we'll need to inject.\n",
    "\n",
    "import requests\n",
    "\n",
    "def fetch_weather(latitude: float, longitude: float):\n",
    "    url = \"https://api.open-meteo.com/v1/forecast\"\n",
    "    params = {\n",
    "        \"latitude\": latitude,\n",
    "        \"longitude\": longitude,\n",
    "        \"hourly\": \"temperature_2m\",\n",
    "    }\n",
    "    response = requests.get(url, params=params)\n",
    "    return response.json()\n",
    "\n",
    "def search_assets(query: str):\n",
    "    url = \"https://nominatim.openstreetmap.org/search\"\n",
    "    params = {\"q\": query, \"format\": \"json\"}\n",
    "    response = requests.get(url, params=params)\n",
    "    return response.json()\n",
    "\n",
    "def search_arxiv(keywords: str, max_results: int = 3):\n",
    "    url = \"http://export.arxiv.org/api/query\"\n",
    "    params = {\n",
    "        \"search_query\": f\"all:{keywords}\",\n",
    "        \"start\": 0,\n",
    "        \"max_results\": max_results\n",
    "    }\n",
    "    response = requests.get(url, params=params)\n",
    "    return response.text  # XML format, you can parse with `feedparser`"
   ]
  },
  {
   "cell_type": "code",
   "execution_count": 0,
   "metadata": {
    "application/vnd.databricks.v1+cell": {
     "cellMetadata": {
      "byteLimit": 2048000,
      "rowLimit": 10000
     },
     "inputWidgets": {},
     "nuid": "bd8df482-eff9-47b5-8e57-f875a077353d",
     "showTitle": true,
     "tableResultSettingsMap": {},
     "title": "Quick preview of our data"
    }
   },
   "outputs": [],
   "source": [
    "#Let's do a quick preview of our data. The easiest way to do this is to throw it into a dataframe. We're just looking for a successful call and loose schema.\n",
    "# We can do the same for any of our API calls\n",
    "\n",
    "import pandas as pd\n",
    "\n",
    "#Let's get a sample from Calgary\n",
    "pd.DataFrame(fetch_weather(51.0478, 114.0593))"
   ]
  },
  {
   "cell_type": "markdown",
   "metadata": {
    "application/vnd.databricks.v1+cell": {
     "cellMetadata": {},
     "inputWidgets": {},
     "nuid": "2e1c627f-c3f0-4c59-b3f7-416a8ccda66c",
     "showTitle": false,
     "tableResultSettingsMap": {},
     "title": ""
    }
   },
   "source": [
    "## Using LangChain's tools library to create tool stubs\n",
    "This is a pretty easy approach, using a declarative approach and LangChain's tool library. All you need to do is register a function with a name and detailed description that will help the agent understand what each tool does."
   ]
  },
  {
   "cell_type": "code",
   "execution_count": 0,
   "metadata": {
    "application/vnd.databricks.v1+cell": {
     "cellMetadata": {
      "byteLimit": 2048000,
      "rowLimit": 10000
     },
     "inputWidgets": {},
     "nuid": "a37dd77f-0fbf-462f-962e-652b03d8aee7",
     "showTitle": true,
     "tableResultSettingsMap": {},
     "title": "Easy tool registration with LangChain"
    }
   },
   "outputs": [],
   "source": [
    "#LangChain provides a quick and easy way to log functions as tools. This is an 'easy button' but we lose a degree of control in terms of behaviour management. Nonetheless, it's a pretty easy way to get going if you just want to do something simple.\n",
    "\n",
    "#Although we probably won't be using this set of tools, it's good to know that it's an option for rapid development or prototyping.\n",
    "\n",
    "from langchain.tools import Tool\n",
    "\n",
    "tools = [\n",
    "    Tool.from_function(fetch_weather, name=\"FetchWeather\", description=\"Fetch hourly weather data.\"),\n",
    "    Tool.from_function(search_assets, name=\"SearchAssets\", description=\"Search for asset-like locations.\"),\n",
    "    Tool.from_function(search_arxiv, name=\"SearchArxiv\", description=\"Search research documents.\"),\n",
    "]"
   ]
  }
 ],
 "metadata": {
  "application/vnd.databricks.v1+notebook": {
   "computePreferences": null,
   "dashboards": [],
   "environmentMetadata": {
    "base_environment": "",
    "environment_version": "2"
   },
   "inputWidgetPreferences": null,
   "language": "python",
   "notebookMetadata": {
    "pythonIndentUnit": 4
   },
   "notebookName": "Custom Tools Demo",
   "widgets": {}
  },
  "language_info": {
   "name": "python"
  }
 },
 "nbformat": 4,
 "nbformat_minor": 0
}
