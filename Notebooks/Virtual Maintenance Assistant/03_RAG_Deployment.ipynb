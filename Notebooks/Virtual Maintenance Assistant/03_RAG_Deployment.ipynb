{
 "cells": [
  {
   "cell_type": "markdown",
   "metadata": {
    "application/vnd.databricks.v1+cell": {
     "cellMetadata": {},
     "inputWidgets": {},
     "nuid": "422f10b7-7b42-4527-a309-3b86342ad04b",
     "showTitle": false,
     "tableResultSettingsMap": {},
     "title": ""
    }
   },
   "source": [
    "#RAG Deployment"
   ]
  },
  {
   "cell_type": "markdown",
   "metadata": {
    "application/vnd.databricks.v1+cell": {
     "cellMetadata": {},
     "inputWidgets": {},
     "nuid": "9c0c4187-8293-4116-ad5a-929a8932032e",
     "showTitle": false,
     "tableResultSettingsMap": {},
     "title": ""
    }
   },
   "source": [
    "## Using Databricks managed Secrets\n",
    "\n",
    "We need to use a Databricks secret to securely manage access to our model. We'll configure this with an access token stored in a safe, redacted location within the Databricks CLI. For more information on Databricks Secrets, refer to the documentation [here](https://docs.databricks.com/en/security/secrets/index.html)\n",
    "\n",
    "Secrets scope: general <br/>\n",
    "Secret: workstation"
   ]
  },
  {
   "cell_type": "code",
   "execution_count": 0,
   "metadata": {
    "application/vnd.databricks.v1+cell": {
     "cellMetadata": {
      "byteLimit": 2048000,
      "rowLimit": 10000
     },
     "inputWidgets": {},
     "nuid": "6d6e45aa-036c-4990-90b8-d273d435e61b",
     "showTitle": false,
     "tableResultSettingsMap": {},
     "title": ""
    }
   },
   "outputs": [],
   "source": [
    "%pip install -U --quiet databricks-sdk==0.28.0 mlflow==2.12.1\n",
    "\n",
    "dbutils.library.restartPython()"
   ]
  },
  {
   "cell_type": "code",
   "execution_count": 0,
   "metadata": {
    "application/vnd.databricks.v1+cell": {
     "cellMetadata": {
      "byteLimit": 2048000,
      "rowLimit": 10000
     },
     "inputWidgets": {},
     "nuid": "cc111600-7269-4f16-b9d4-3dfa4ee50046",
     "showTitle": false,
     "tableResultSettingsMap": {},
     "title": ""
    }
   },
   "outputs": [],
   "source": [
    "import mlflow\n",
    "from mlflow import MlflowClient\n",
    "\n",
    "model_name = f\"ademianczuk.myfixit.virtual_assistant_rag_app\"\n",
    "\n",
    "# Point to UC registry\n",
    "mlflow.set_registry_uri(\"databricks-uc\")\n",
    "\n",
    "def get_latest_model_version(model_name_in:str = None):\n",
    "    \"\"\"\n",
    "    Get latest version of registered model\n",
    "    \"\"\"\n",
    "    client = MlflowClient()\n",
    "    model_version_infos = client.search_model_versions(\"name = '%s'\" % model_name_in)\n",
    "    if model_version_infos:\n",
    "      return max([model_version_info.version for model_version_info in model_version_infos])\n",
    "    else:\n",
    "      return None"
   ]
  },
  {
   "cell_type": "code",
   "execution_count": 0,
   "metadata": {
    "application/vnd.databricks.v1+cell": {
     "cellMetadata": {
      "byteLimit": 2048000,
      "rowLimit": 10000
     },
     "inputWidgets": {},
     "nuid": "dd1d7338-5659-49e3-be2f-1103aa73e24d",
     "showTitle": false,
     "tableResultSettingsMap": {},
     "title": ""
    }
   },
   "outputs": [],
   "source": [
    "latest_model_version = get_latest_model_version(model_name)\n",
    "\n",
    "if latest_model_version:\n",
    "  print(f\"Model created and logged to: {model_name}/{latest_model_version}\")\n",
    "else:\n",
    "  raise(BaseException(\"Error: Model not created, verify if the named model was properly compiled and registered in unity catalog.\"))"
   ]
  },
  {
   "cell_type": "code",
   "execution_count": 0,
   "metadata": {
    "application/vnd.databricks.v1+cell": {
     "cellMetadata": {
      "byteLimit": 2048000,
      "rowLimit": 10000
     },
     "inputWidgets": {},
     "nuid": "7fb75863-32f1-4cee-be6a-bd0f7d5421cf",
     "showTitle": false,
     "tableResultSettingsMap": {},
     "title": ""
    }
   },
   "outputs": [],
   "source": [
    "from databricks.sdk.service.serving import EndpointCoreConfigInput\n",
    "\n",
    "# Configure the endpoint\n",
    "endpoint_config_dict = {\n",
    "    \"served_models\": [\n",
    "        {\n",
    "            \"model_name\": model_name,\n",
    "            \"model_version\": latest_model_version,\n",
    "            \"scale_to_zero_enabled\": True,\n",
    "            \"workload_size\": \"Small\",\n",
    "            \"environment_vars\": {\n",
    "                \"DATABRICKS_TOKEN\": \"{{secrets/general/workstation}}\",\n",
    "                \"DATABRICKS_HOST\": \"{{secrets/general/host}}\"\n",
    "            },\n",
    "        },\n",
    "    ],\n",
    "    \"auto_capture_config\":{\n",
    "        \"catalog_name\": \"ademianczuk\",\n",
    "        \"schema_name\": \"myfixit\",\n",
    "        \"table_name_prefix\": \"rag_app_realtime\"\n",
    "    }\n",
    "}\n",
    "\n",
    "endpoint_config = EndpointCoreConfigInput.from_dict(endpoint_config_dict)"
   ]
  },
  {
   "cell_type": "code",
   "execution_count": 0,
   "metadata": {
    "application/vnd.databricks.v1+cell": {
     "cellMetadata": {
      "byteLimit": 2048000,
      "rowLimit": 10000
     },
     "inputWidgets": {},
     "nuid": "69bb7c10-b13e-489c-9d55-a9c0a09f9bd6",
     "showTitle": false,
     "tableResultSettingsMap": {},
     "title": ""
    }
   },
   "outputs": [],
   "source": [
    "from databricks.sdk import WorkspaceClient\n",
    "\n",
    "# Initiate the workspace client\n",
    "w = WorkspaceClient()\n",
    "serving_endpoint_name = f\"myfixit_va_endpoint\"\n",
    "\n",
    "# Get endpoint if it exists\n",
    "existing_endpoint = next(\n",
    "    (e for e in w.serving_endpoints.list() if e.name == serving_endpoint_name), None\n",
    ")\n",
    "\n",
    "db_host = dbutils.notebook.entry_point.getDbutils().notebook().getContext().tags().get(\"browserHostName\").value()\n",
    "serving_endpoint_url = f\"{db_host}/ml/endpoints/{serving_endpoint_name}\"\n",
    "\n",
    "print(db_host)\n",
    "print(serving_endpoint_url)\n",
    "\n",
    "# If endpoint doesn't exist, create it\n",
    "if existing_endpoint == None:\n",
    "    print(f\"Creating the endpoint {serving_endpoint_url}, this will take a few minutes to package and deploy the endpoint...\")\n",
    "    w.serving_endpoints.create_and_wait(name=serving_endpoint_name, config=endpoint_config)\n",
    "\n",
    "# If endpoint does exist, update it to serve the new version\n",
    "else:\n",
    "    print(f\"Updating the endpoint {serving_endpoint_url} to version {latest_model_version}, this will take a few minutes to package and deploy the endpoint...\")\n",
    "    w.serving_endpoints.update_config_and_wait(served_models=endpoint_config.served_models, name=serving_endpoint_name)\n",
    "\n",
    "displayHTML(f'Your Model Endpoint Serving is now available. Open the <a href=\"/ml/endpoints/{serving_endpoint_name}\">Model Serving Endpoint page</a> for more details.')"
   ]
  },
  {
   "cell_type": "code",
   "execution_count": 0,
   "metadata": {
    "application/vnd.databricks.v1+cell": {
     "cellMetadata": {
      "byteLimit": 2048000,
      "rowLimit": 10000
     },
     "inputWidgets": {},
     "nuid": "3f4e55e5-671d-4650-b2b1-de00af0e34b3",
     "showTitle": false,
     "tableResultSettingsMap": {},
     "title": ""
    }
   },
   "outputs": [],
   "source": [
    "question = \"What is the safest way to remove a phone battery?\"\n",
    "answer = w.serving_endpoints.query(serving_endpoint_name, inputs=[{\"query\": question}])\n",
    "print(answer.predictions)"
   ]
  },
  {
   "cell_type": "code",
   "execution_count": 0,
   "metadata": {
    "application/vnd.databricks.v1+cell": {
     "cellMetadata": {
      "byteLimit": 2048000,
      "rowLimit": 10000
     },
     "inputWidgets": {},
     "nuid": "507754ee-fa8e-4089-a94d-c3aa83384946",
     "showTitle": false,
     "tableResultSettingsMap": {},
     "title": ""
    }
   },
   "outputs": [],
   "source": [
    "from mlflow.deployments import get_deploy_client\n",
    "\n",
    "deploy_client = get_deploy_client(\"databricks\")\n",
    "response = deploy_client.predict(\n",
    "  endpoint=serving_endpoint_name,\n",
    "  inputs={\"inputs\" : [{\"query\": question}]}\n",
    ")\n",
    "print(response.predictions)"
   ]
  }
 ],
 "metadata": {
  "application/vnd.databricks.v1+notebook": {
   "computePreferences": null,
   "dashboards": [],
   "environmentMetadata": {
    "base_environment": "",
    "client": "1"
   },
   "language": "python",
   "notebookMetadata": {
    "pythonIndentUnit": 4
   },
   "notebookName": "03_RAG_Deployment",
   "widgets": {}
  },
  "language_info": {
   "name": "python"
  }
 },
 "nbformat": 4,
 "nbformat_minor": 0
}
